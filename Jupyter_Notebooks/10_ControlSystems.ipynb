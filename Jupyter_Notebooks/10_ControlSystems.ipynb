{
 "cells": [
  {
   "cell_type": "markdown",
   "metadata": {},
   "source": [
    "# Control Systems\n",
    "\n",
    "author: Thomas Haslwanter, date: Dec-2019"
   ]
  },
  {
   "cell_type": "markdown",
   "metadata": {},
   "source": [
    "## Preliminaries"
   ]
  },
  {
   "cell_type": "code",
   "execution_count": 1,
   "metadata": {},
   "outputs": [],
   "source": [
    "# Import the required packages\n",
    "%matplotlib inline\n",
    "import numpy as np\n",
    "import matplotlib.pyplot as plt\n",
    "from scipy import signal"
   ]
  },
  {
   "cell_type": "markdown",
   "metadata": {},
   "source": [
    "## Dynamics\n",
    "\n",
    "### Damped Oscillator\n",
    "\n",
    "A *damped oscillator* can be implemented by the following mechanical system:\n",
    "\n",
    "<img src=\"data/images/1D_movement.png\" style=\"width: 300px;\"/>\n",
    "\n",
    "* x ... position of mass in space\n",
    "* b ... position of base\n",
    "* k ... spring constant\n",
    "* $\\delta = b - x$ ... difference\n",
    "\n",
    "\\begin{equation}\n",
    "    m \\ddot{x} = r \\dot{\\delta} + k * \\delta\n",
    "\\end{equation}\n",
    "\\begin{equation}\n",
    "    m \\ddot{b} = m \\ddot{\\delta} + r \\dot{\\delta} + k * \\delta\n",
    "\\end{equation}"
   ]
  },
  {
   "cell_type": "markdown",
   "metadata": {},
   "source": [
    "### Laplace Transformation\n",
    "\n",
    "Differential equations like the one above can be converted into - easily solvable - algebraic equations, by making use of the *Laplace Transofmation*. Given any time course f(t), its Laplace transform F(s) is\n",
    "\n",
    "\\begin{equation}\n",
    "  F(s) = \\int\\limits_0^\\infty  {f(t) \\cdot {e^{ - st}}dt}\n",
    "\\end{equation}\n",
    "\t\n",
    "while its inverse is\n",
    "\n",
    "\\begin{equation}\n",
    "  f(t) = \\int\\limits_S {F(s) \\cdot {e^{st}}ds}\n",
    "\\end{equation}\n",
    "\n",
    "where the integration is over the s-plane, S. s is sometimes referred to as *complex frequency*.\n",
    "\n",
    "Laplace Transformations are a generalization of Fourier Transformation. With Fourier Transformations we have dealt only with sine waves, $e^{j \\omega t}$ . Put another way, we have restricted $s$ to $j \\omega$ so that est was restricted to $e^{j \\omega t}$. But this is unnecessary, we can let $s$ enjoy being fully complex or $s = \\sigma + j \\omega$ . This greatly expands the kinds of functions that $e^{st}$ can represent.\n"
   ]
  },
  {
   "cell_type": "markdown",
   "metadata": {},
   "source": [
    "With a Laplace transformation, where\n",
    "\n",
    "\\begin{equation}\n",
    "    \\frac{dx}{dt} \\rightarrow s \\tilde{X} - x(0)\n",
    "\\end{equation}\n",
    "the differntial equation above is transformed into\n",
    "\n",
    "\\begin{equation}\n",
    "    \\frac{\\delta}{sB} = \\frac{m * s}{m s^2 + r s + k}\n",
    "\\end{equation}\n",
    "\n",
    "#### Example: Kick a Damped Oscillator"
   ]
  },
  {
   "cell_type": "code",
   "execution_count": 2,
   "metadata": {},
   "outputs": [
    {
     "data": {
      "text/plain": [
       "<matplotlib.lines.Line2D at 0x242a015a358>"
      ]
     },
     "execution_count": 2,
     "metadata": {},
     "output_type": "execute_result"
    },
    {
     "data": {
      "image/png": "[encoded data removed]",
      "text/plain": [
       "<Figure size 432x288 with 1 Axes>"
      ]
     },
     "metadata": {},
     "output_type": "display_data"
    }
   ],
   "source": [
    "# Import the required modules\n",
    "from scipy import signal\n",
    "\n",
    "# Define the system\n",
    "m, r, k = 1, 1, 0.1\n",
    "num = [m, 0]\n",
    "den = [m, r, k]\n",
    "system = signal.lti(num, den)\n",
    "\n",
    "# Define the input\n",
    "t = np.arange(0, 30, 0.1)\n",
    "x = np.zeros_like(t)\n",
    "x[t>1] = 1\n",
    "\n",
    "# Simulate the system response\n",
    "tout, outSignal, xout = signal.lsim(system, x, t)\n",
    "\n",
    "# Plot the output\n",
    "plt.plot(t, x, label='Movement Base')\n",
    "plt.plot(tout, outSignal, label='Displacement')\n",
    "plt.legend()\n",
    "plt.xlabel('Time [sec]')\n",
    "plt.ylabel('Deflection')\n",
    "plt.ylim(-0.05, 1.05)\n",
    "plt.axhline(0, linestyle='--')"
   ]
  },
  {
   "cell_type": "markdown",
   "metadata": {},
   "source": [
    "## Analysis\n",
    "\n",
    "### Position from acceleration\n",
    "\n",
    "* Select a *reference position*\n",
    "* Define a coordinate system (typically a *right-handed* coordinate systems)\n",
    "* Take the (discrete) velocity v(t)\n",
    "\n",
    "\\begin{equation}\n",
    "    \\vec{x}(t) = \\vec{x}(0) + \\sum_{i=1}^{n}{\\vec{v}(t_i) dt}\n",
    "\\end{equation}"
   ]
  },
  {
   "cell_type": "code",
   "execution_count": 6,
   "metadata": {},
   "outputs": [
    {
     "data": {
      "text/plain": [
       "Text(0.5,0,'Time [sec]')"
      ]
     },
     "execution_count": 6,
     "metadata": {},
     "output_type": "execute_result"
    },
    {
     "data": {
      "image/png": "[encoded data removed]",
      "text/plain": [
       "<Figure size 432x288 with 2 Axes>"
      ]
     },
     "metadata": {},
     "output_type": "display_data"
    }
   ],
   "source": [
    "# For example, calculate the position from a velocity step\n",
    "from scipy.integrate import cumtrapz\n",
    "\n",
    "# Set the experimenal parameters\n",
    "rate = 50     # sample rate, in [Hz]\n",
    "duration = 10  # [sec]\n",
    "vel_max = 100\n",
    "x0 = 0         # Initial potiion\n",
    "\n",
    "# Simulate the velocity step\n",
    "t = np.arange(duration*rate)/rate\n",
    "vel = np.zeros(duration*rate)\n",
    "vel[2*rate:]= vel_max  # deg/sec\n",
    "vel[rate:2*rate] = np.linspace(0, vel_max, rate)\n",
    "\n",
    "# Calculate the corresponding position in space\n",
    "pos = cumtrapz(vel, dx=1/rate, initial=x0)\n",
    "\n",
    "fig, axs = plt.subplots(2,1)\n",
    "axs[0].plot(t, vel)\n",
    "axs[0].set_ylabel('Velocity [m/s]')\n",
    "axs[1].plot(t, pos)\n",
    "axs[1].set_ylabel('Positoin [m]')\n",
    "axs[1].set_xlabel('Time [sec]')"
   ]
  },
  {
   "cell_type": "markdown",
   "metadata": {},
   "source": [
    "<img src=\"data/images/CCA_40.png\">\n",
    "This page is licensed under a Creative Commons Attribution 4.0 International License."
   ]
  }
 ],
 "metadata": {
  "kernelspec": {
   "display_name": "Python 3",
   "language": "python",
   "name": "python3"
  },
  "language_info": {
   "codemirror_mode": {
    "name": "ipython",
    "version": 3
   },
   "file_extension": ".py",
   "mimetype": "text/x-python",
   "name": "python",
   "nbconvert_exporter": "python",
   "pygments_lexer": "ipython3",
   "version": "3.7.4"
  }
 },
 "nbformat": 4,
 "nbformat_minor": 4
}
